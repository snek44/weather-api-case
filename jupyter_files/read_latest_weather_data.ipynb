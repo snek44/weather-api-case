{
 "cells": [
  {
   "cell_type": "code",
   "execution_count": 4,
   "id": "c264934d-4b51-4178-9899-f44aceb9ea2c",
   "metadata": {},
   "outputs": [
    {
     "ename": "IOException",
     "evalue": "IO Error: Could not set lock on file \"/Users/jansimecka/Github projects/weather-api-case/.duckdb\": Conflicting lock is held in /Applications/DBeaver.app/Contents/MacOS/dbeaver (PID 2083) by user jansimecka. See also https://duckdb.org/docs/stable/connect/concurrency",
     "output_type": "error",
     "traceback": [
      "\u001b[0;31m---------------------------------------------------------------------------\u001b[0m",
      "\u001b[0;31mIOException\u001b[0m                               Traceback (most recent call last)",
      "Cell \u001b[0;32mIn[4], line 3\u001b[0m\n\u001b[1;32m      1\u001b[0m \u001b[38;5;28;01mimport\u001b[39;00m\u001b[38;5;250m \u001b[39m\u001b[38;5;21;01mduckdb\u001b[39;00m\n\u001b[0;32m----> 3\u001b[0m db \u001b[38;5;241m=\u001b[39m \u001b[43mduckdb\u001b[49m\u001b[38;5;241;43m.\u001b[39;49m\u001b[43mconnect\u001b[49m\u001b[43m(\u001b[49m\u001b[38;5;124;43m\"\u001b[39;49m\u001b[38;5;124;43m.duckdb\u001b[39;49m\u001b[38;5;124;43m\"\u001b[39;49m\u001b[43m)\u001b[49m\n\u001b[1;32m      5\u001b[0m db\u001b[38;5;241m.\u001b[39msql(\u001b[38;5;124m\"\u001b[39m\u001b[38;5;124mSELECT current_last_updated_epoch FROM dlt_weather_api.current_prague\u001b[39m\u001b[38;5;124m\"\u001b[39m)\u001b[38;5;241m.\u001b[39mshow()\n\u001b[1;32m      7\u001b[0m db\u001b[38;5;241m.\u001b[39mclose()\n",
      "\u001b[0;31mIOException\u001b[0m: IO Error: Could not set lock on file \"/Users/jansimecka/Github projects/weather-api-case/.duckdb\": Conflicting lock is held in /Applications/DBeaver.app/Contents/MacOS/dbeaver (PID 2083) by user jansimecka. See also https://duckdb.org/docs/stable/connect/concurrency"
     ]
    }
   ],
   "source": [
    "import duckdb\n",
    "\n",
    "db = duckdb.connect(\".duckdb\")\n",
    "\n",
    "db.sql(\"SELECT current_last_updated_epoch FROM dlt_weather_api.current_prague\").show()\n",
    "\n",
    "db.close()\n"
   ]
  },
  {
   "cell_type": "code",
   "execution_count": null,
   "id": "67bd33f4-c8db-4ef5-93e7-075da3f1808b",
   "metadata": {},
   "outputs": [],
   "source": []
  }
 ],
 "metadata": {
  "kernelspec": {
   "display_name": "Python 3 (ipykernel)",
   "language": "python",
   "name": "python3"
  },
  "language_info": {
   "codemirror_mode": {
    "name": "ipython",
    "version": 3
   },
   "file_extension": ".py",
   "mimetype": "text/x-python",
   "name": "python",
   "nbconvert_exporter": "python",
   "pygments_lexer": "ipython3",
   "version": "3.10.9"
  }
 },
 "nbformat": 4,
 "nbformat_minor": 5
}
