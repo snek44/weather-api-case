{
 "cells": [
  {
   "cell_type": "code",
   "execution_count": 3,
   "id": "c264934d-4b51-4178-9899-f44aceb9ea2c",
   "metadata": {},
   "outputs": [
    {
     "name": "stdout",
     "output_type": "stream",
     "text": [
      "┌─────────────────────┬─────────┬────────┬─────────────┬────────────────────────────────────────┬────────────────┐\n",
      "│  forecast_time_utc  │  city   │ temp_c │ feelslike_c │            condition__text             │ chance_of_rain │\n",
      "│      timestamp      │ varchar │ double │   double    │                varchar                 │     int64      │\n",
      "├─────────────────────┼─────────┼────────┼─────────────┼────────────────────────────────────────┼────────────────┤\n",
      "│ 2025-07-16 19:00:00 │ Prague  │   14.6 │        13.7 │ Light rain shower                      │            100 │\n",
      "│ 2025-07-16 19:00:00 │ London  │   21.6 │        21.6 │ Sunny                                  │              0 │\n",
      "│ 2025-07-16 18:00:00 │ Prague  │   15.2 │        15.2 │ Patchy light rain in area with thunder │            100 │\n",
      "│ 2025-07-16 18:00:00 │ London  │   23.2 │        24.4 │ Sunny                                  │              0 │\n",
      "│ 2025-07-16 17:00:00 │ Prague  │   18.9 │        18.9 │ Patchy light drizzle                   │            100 │\n",
      "│ 2025-07-16 17:00:00 │ London  │   24.3 │        24.7 │ Sunny                                  │              0 │\n",
      "│ 2025-07-16 16:00:00 │ Prague  │   19.9 │        19.9 │ Thundery outbreaks in nearby           │             80 │\n",
      "│ 2025-07-16 16:00:00 │ London  │   24.9 │        25.0 │ Partly Cloudy                          │              0 │\n",
      "│ 2025-07-16 15:00:00 │ Prague  │   21.0 │        21.0 │ Thundery outbreaks in nearby           │             63 │\n",
      "│ 2025-07-16 15:00:00 │ London  │   25.0 │        25.0 │ Partly Cloudy                          │              0 │\n",
      "│          ·          │   ·     │     ·  │          ·  │       ·                                │              · │\n",
      "│          ·          │   ·     │     ·  │          ·  │       ·                                │              · │\n",
      "│          ·          │   ·     │     ·  │          ·  │       ·                                │              · │\n",
      "│ 2025-07-14 03:00:00 │ London  │   17.9 │        17.9 │ Patchy rain nearby                     │            100 │\n",
      "│ 2025-07-14 02:00:00 │ Prague  │   15.6 │        15.6 │ Partly Cloudy                          │              0 │\n",
      "│ 2025-07-14 02:00:00 │ London  │   18.6 │        18.6 │ Patchy rain nearby                     │             74 │\n",
      "│ 2025-07-14 01:00:00 │ Prague  │   16.2 │        16.2 │ Partly Cloudy                          │              0 │\n",
      "│ 2025-07-14 01:00:00 │ London  │   19.1 │        19.1 │ Partly Cloudy                          │              0 │\n",
      "│ 2025-07-14 00:00:00 │ Prague  │   15.0 │        15.0 │ Overcast                               │              0 │\n",
      "│ 2025-07-14 00:00:00 │ London  │   19.7 │        19.7 │ Partly Cloudy                          │              0 │\n",
      "│ 2025-07-13 23:00:00 │ Prague  │   15.1 │        15.1 │ Partly Cloudy                          │              0 │\n",
      "│ 2025-07-13 23:00:00 │ London  │   20.3 │        20.3 │ Clear                                  │              0 │\n",
      "│ 2025-07-13 22:00:00 │ Prague  │   15.4 │        15.4 │ Clear                                  │              0 │\n",
      "├─────────────────────┴─────────┴────────┴─────────────┴────────────────────────────────────────┴────────────────┤\n",
      "│ 139 rows (20 shown)                                                                                  6 columns │\n",
      "└────────────────────────────────────────────────────────────────────────────────────────────────────────────────┘\n",
      "\n"
     ]
    }
   ],
   "source": [
    "import duckdb\n",
    "\n",
    "db = duckdb.connect(\"../.duckdb\")\n",
    "\n",
    "db.sql(\"SELECT * FROM staging.weather_api_latest_forecast\").show()\n",
    "\n",
    "db.close()\n"
   ]
  },
  {
   "cell_type": "code",
   "execution_count": null,
   "id": "67bd33f4-c8db-4ef5-93e7-075da3f1808b",
   "metadata": {},
   "outputs": [],
   "source": []
  }
 ],
 "metadata": {
  "kernelspec": {
   "display_name": "Python 3 (ipykernel)",
   "language": "python",
   "name": "python3"
  },
  "language_info": {
   "codemirror_mode": {
    "name": "ipython",
    "version": 3
   },
   "file_extension": ".py",
   "mimetype": "text/x-python",
   "name": "python",
   "nbconvert_exporter": "python",
   "pygments_lexer": "ipython3",
   "version": "3.10.9"
  }
 },
 "nbformat": 4,
 "nbformat_minor": 5
}
