{
 "cells": [
  {
   "cell_type": "code",
   "execution_count": null,
   "id": "c264934d-4b51-4178-9899-f44aceb9ea2c",
   "metadata": {},
   "outputs": [],
   "source": [
    "import duckdb\n",
    "\n",
    "with duckdb.connect(\"../.duckdb\") as db:\n",
    "    db.sql(\"SELECT * FROM staging.weather_api_latest_forecast\").show()"
   ]
  },
  {
   "cell_type": "code",
   "execution_count": null,
   "id": "67bd33f4-c8db-4ef5-93e7-075da3f1808b",
   "metadata": {},
   "outputs": [],
   "source": []
  }
 ],
 "metadata": {
  "kernelspec": {
   "display_name": "Python 3 (ipykernel)",
   "language": "python",
   "name": "python3"
  },
  "language_info": {
   "codemirror_mode": {
    "name": "ipython",
    "version": 3
   },
   "file_extension": ".py",
   "mimetype": "text/x-python",
   "name": "python",
   "nbconvert_exporter": "python",
   "pygments_lexer": "ipython3",
   "version": "3.10.9"
  }
 },
 "nbformat": 4,
 "nbformat_minor": 5
}
